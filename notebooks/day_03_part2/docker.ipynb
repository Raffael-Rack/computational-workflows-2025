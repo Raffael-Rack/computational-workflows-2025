{
 "cells": [
  {
   "cell_type": "markdown",
   "metadata": {},
   "source": [
    "# A short introduction to containerized software\n",
    "\n",
    "After spending time using nf-core pipelines to answer bioinformatic questions, we will focus on the processes that lie behind these pipelines now.\n",
    "\n",
    "Today, we will focus on containerization, namely via Docker. \n",
    "\n"
   ]
  },
  {
   "cell_type": "markdown",
   "metadata": {},
   "source": [
    "1. Check if Docker is installed."
   ]
  },
  {
   "cell_type": "code",
   "execution_count": 1,
   "metadata": {},
   "outputs": [
    {
     "name": "stdout",
     "output_type": "stream",
     "text": [
      "Client:\n",
      " Version:    28.3.3-1\n",
      " Context:    default\n",
      " Debug Mode: false\n",
      " Plugins:\n",
      "  buildx: Docker Buildx (Docker Inc.)\n",
      "    Version:  0.27.0-1\n",
      "    Path:     /usr/libexec/docker/cli-plugins/docker-buildx\n",
      "  compose: Docker Compose (Docker Inc.)\n",
      "    Version:  v2.39.2\n",
      "    Path:     /usr/libexec/docker/cli-plugins/docker-compose\n",
      "\n",
      "Server:\n",
      " Containers: 2\n",
      "  Running: 1\n",
      "  Paused: 0\n",
      "  Stopped: 1\n",
      " Images: 10\n",
      " Server Version: 24.0.9-2\n",
      " Storage Driver: overlay2\n",
      "  Backing Filesystem: extfs\n",
      "  Supports d_type: true\n",
      "  Using metacopy: false\n",
      "  Native Overlay Diff: false\n",
      "  userxattr: false\n",
      " Logging Driver: json-file\n",
      " Cgroup Driver: systemd\n",
      " Cgroup Version: 2\n",
      " Plugins:\n",
      "  Volume: local\n",
      "  Network: bridge host ipvlan macvlan null overlay\n",
      "  Log: awslogs fluentd gcplogs gelf journald json-file local logentries splunk syslog\n",
      " Swarm: inactive\n",
      " Runtimes: io.containerd.runc.v2 runc\n",
      " Default Runtime: runc\n",
      " Init Binary: docker-init\n",
      " containerd version: 05044ec0a9a75232cad458027ca83437aae3f4da\n",
      " runc version: bc20cb4497af9af01bea4a8044f1678ffca2745c\n",
      " init version: de40ad0\n",
      " Security Options:\n",
      "  apparmor\n",
      "  seccomp\n",
      "   Profile: builtin\n",
      "  cgroupns\n",
      " Kernel Version: 6.8.0-1030-azure\n",
      " Operating System: Ubuntu 22.04.5 LTS\n",
      " OSType: linux\n",
      " Architecture: x86_64\n",
      " CPUs: 4\n",
      " Total Memory: 15.62GiB\n",
      " Name: ab568964-f850-4488-bfc6-3f5b8b5e2e59\n",
      " ID: 62c42d39-2540-4102-8938-016e6b53a8b2\n",
      " Docker Root Dir: /var/lib/docker\n",
      " Debug Mode: false\n",
      " Username: codespacesdev\n",
      " Experimental: false\n",
      " Insecure Registries:\n",
      "  127.0.0.0/8\n",
      " Live Restore Enabled: false\n",
      "\n"
     ]
    }
   ],
   "source": [
    "!docker info"
   ]
  },
  {
   "cell_type": "markdown",
   "metadata": {},
   "source": [
    "### What is a container?"
   ]
  },
  {
   "cell_type": "markdown",
   "metadata": {},
   "source": [
    "A container is a standard unit of software containing one or more tools and their dependencies with specific versions, so that the tool can be run in a fixed and reproducible environment."
   ]
  },
  {
   "cell_type": "markdown",
   "metadata": {},
   "source": [
    "### Why do we use containers?"
   ]
  },
  {
   "cell_type": "markdown",
   "metadata": {},
   "source": [
    "Containers are used to ensure that the environment in which a tool operates is fixed, so that there are no changes in the results that stem from different versions of tools or dependency issues"
   ]
  },
  {
   "cell_type": "markdown",
   "metadata": {},
   "source": [
    "### What is a docker image?\n",
    "\n",
    "A docker image is a template that includes certain software from which a container containing those tools can be spun up. They are used to share containers and to ensure that every container for the same use is set up the same."
   ]
  },
  {
   "cell_type": "markdown",
   "metadata": {},
   "source": [
    "### Let's run our first docker image:"
   ]
  },
  {
   "cell_type": "markdown",
   "metadata": {},
   "source": [
    "### Login to docker"
   ]
  },
  {
   "cell_type": "code",
   "execution_count": null,
   "metadata": {},
   "outputs": [],
   "source": [
    "# This you need to do on the command line directly"
   ]
  },
  {
   "cell_type": "markdown",
   "metadata": {},
   "source": [
    "### Run your first docker container"
   ]
  },
  {
   "cell_type": "code",
   "execution_count": 2,
   "metadata": {},
   "outputs": [
    {
     "name": "stdout",
     "output_type": "stream",
     "text": [
      "Unable to find image 'hello-world:latest' locally\n",
      "latest: Pulling from library/hello-world\n",
      "\n",
      "\u001b[1Bc7bbc9d7: Pull complete .38kB/2.38kBB\u001b[1A\u001b[2K\u001b[1A\u001b[2KDigest: sha256:54e66cc1dd1fcb1c3c58bd8017914dbed8701e2d8c74d9262e26bd9cc1642d31\n",
      "Status: Downloaded newer image for hello-world:latest\n",
      "\n",
      "Hello from Docker!\n",
      "This message shows that your installation appears to be working correctly.\n",
      "\n",
      "To generate this message, Docker took the following steps:\n",
      " 1. The Docker client contacted the Docker daemon.\n",
      " 2. The Docker daemon pulled the \"hello-world\" image from the Docker Hub.\n",
      "    (amd64)\n",
      " 3. The Docker daemon created a new container from that image which runs the\n",
      "    executable that produces the output you are currently reading.\n",
      " 4. The Docker daemon streamed that output to the Docker client, which sent it\n",
      "    to your terminal.\n",
      "\n",
      "To try something more ambitious, you can run an Ubuntu container with:\n",
      " $ docker run -it ubuntu bash\n",
      "\n",
      "Share images, automate workflows, and more with a free Docker ID:\n",
      " https://hub.docker.com/\n",
      "\n",
      "For more examples and ideas, visit:\n",
      " https://docs.docker.com/get-started/\n",
      "\n"
     ]
    }
   ],
   "source": [
    "!docker run hello-world"
   ]
  },
  {
   "cell_type": "markdown",
   "metadata": {},
   "source": [
    "### Find the container ID"
   ]
  },
  {
   "cell_type": "code",
   "execution_count": null,
   "metadata": {},
   "outputs": [
    {
     "name": "stdout",
     "output_type": "stream",
     "text": [
      "CONTAINER ID   IMAGE                                 COMMAND                  CREATED         STATUS                      PORTS     NAMES\n",
      "768ad48732b4   hello-world                           \"/hello\"                 3 minutes ago   Exited (0) 3 minutes ago              nostalgic_margulis\n",
      "4e7a74671a2c   quay.io/biocontainers/python:3.9--1   \"/usr/local/env-exec…\"   26 hours ago    Exited (127) 26 hours ago             nxf-xIQ8T3qr9Plk1haTMaFWBAz4\n",
      "a013b78c311b   nfcore/devcontainer:latest            \"/bin/sh -c 'echo Co…\"   2 days ago      Up 33 minutes                         vigilant_jennings\n"
     ]
    }
   ],
   "source": [
    "!docker ps -a\n",
    "# The ID of the hello-world container is 768ad48732b4"
   ]
  },
  {
   "cell_type": "markdown",
   "metadata": {},
   "source": [
    "### Delete the container again, give proof its deleted"
   ]
  },
  {
   "cell_type": "code",
   "execution_count": null,
   "metadata": {},
   "outputs": [
    {
     "name": "stdout",
     "output_type": "stream",
     "text": [
      "768ad48732b4\n"
     ]
    }
   ],
   "source": [
    "# The container can be deleted using the container rm command in conjunction with the container ID\n",
    "!docker container rm 768ad48732b4"
   ]
  },
  {
   "cell_type": "code",
   "execution_count": null,
   "metadata": {},
   "outputs": [
    {
     "name": "stdout",
     "output_type": "stream",
     "text": [
      "CONTAINER ID   IMAGE                                 COMMAND                  CREATED        STATUS                      PORTS     NAMES\n",
      "4e7a74671a2c   quay.io/biocontainers/python:3.9--1   \"/usr/local/env-exec…\"   26 hours ago   Exited (127) 26 hours ago             nxf-xIQ8T3qr9Plk1haTMaFWBAz4\n",
      "a013b78c311b   nfcore/devcontainer:latest            \"/bin/sh -c 'echo Co…\"   2 days ago     Up 37 minutes                         vigilant_jennings\n"
     ]
    }
   ],
   "source": [
    "# Checking the containers again reveals that the hello world container has been removed\n",
    "!docker ps -a"
   ]
  },
  {
   "cell_type": "markdown",
   "metadata": {},
   "source": [
    "### FASTQC is a very useful tool as you've learned last week. Let's try and run it from command line\n",
    "\n",
    "Link to the software: https://www.bioinformatics.babraham.ac.uk/projects/fastqc/"
   ]
  },
  {
   "cell_type": "markdown",
   "metadata": {},
   "source": [
    "Please describe the steps you took to download and run the software for the example fastq file from last week below:"
   ]
  },
  {
   "cell_type": "markdown",
   "metadata": {},
   "source": [
    "1. I searched for a fastqc container online \n",
    "2. Go to Seqera and add fastqc to the container\n",
    "3. Click get container and copy the adress\n",
    "4. Input >docker run adress< into the console "
   ]
  },
  {
   "cell_type": "markdown",
   "metadata": {},
   "source": [
    "### Very well, now let's try to make use of its docker container\n",
    "\n",
    "1. create a container holding fastqc using seqera containers (https://seqera.io/containers/)\n",
    "2. use the container to generate a fastqc html of the example fastq file"
   ]
  },
  {
   "cell_type": "code",
   "execution_count": 16,
   "metadata": {},
   "outputs": [
    {
     "name": "stdout",
     "output_type": "stream",
     "text": [
      "CONTAINER ID   IMAGE                                                              COMMAND                  CREATED              STATUS                              PORTS     NAMES\n",
      "a1dc8ae375d0   community.wave.seqera.io/library/fastqc:0.12.1--af7a5314d5015c29   \"/usr/local/bin/_ent…\"   1 second ago         Exited (0) Less than a second ago             magical_murdock\n",
      "16eee06a5cb1   community.wave.seqera.io/library/fastqc:0.12.1--af7a5314d5015c29   \"/usr/local/bin/_ent…\"   13 seconds ago       Exited (0) 12 seconds ago                     thirsty_shtern\n",
      "79ee53208ce2   community.wave.seqera.io/library/fastqc:0.12.1--af7a5314d5015c29   \"/usr/local/bin/_ent…\"   About a minute ago   Exited (2) About a minute ago                 elated_haslett\n",
      "d1486612c962   community.wave.seqera.io/library/fastqc:0.12.1--af7a5314d5015c29   \"/usr/local/bin/_ent…\"   3 minutes ago        Exited (0) 3 minutes ago                      gallant_goldwasser\n",
      "19bbef3ce134   bash                                                               \"docker-entrypoint.s…\"   5 minutes ago        Exited (127) 5 minutes ago                    admiring_murdock\n",
      "c8adc12024b6   community.wave.seqera.io/library/fastqc:0.12.1--af7a5314d5015c29   \"/usr/local/bin/_ent…\"   10 minutes ago       Exited (2) 10 minutes ago                     hardcore_ardinghelli\n",
      "f5acc4833f2f   community.wave.seqera.io/library/fastqc:0.12.1--af7a5314d5015c29   \"/usr/local/bin/_ent…\"   16 minutes ago       Exited (2) 16 minutes ago                     quizzical_cannon\n",
      "cb954bf6fdc0   community.wave.seqera.io/library/fastqc:0.12.1--af7a5314d5015c29   \"/usr/local/bin/_ent…\"   17 minutes ago       Exited (2) 17 minutes ago                     lucid_vaughan\n",
      "bcf3b9ab1dcc   community.wave.seqera.io/library/fastqc:0.12.1--af7a5314d5015c29   \"/usr/local/bin/_ent…\"   21 minutes ago       Exited (2) 21 minutes ago                     awesome_mclaren\n",
      "2ea5cb6277d4   community.wave.seqera.io/library/fastqc:0.12.1--af7a5314d5015c29   \"/usr/local/bin/_ent…\"   42 minutes ago       Exited (2) 42 minutes ago                     mystifying_easley\n",
      "7007a4cb6e00   community.wave.seqera.io/library/fastqc:0.12.1--af7a5314d5015c29   \"/usr/local/bin/_ent…\"   43 minutes ago       Exited (2) 43 minutes ago                     zen_galois\n",
      "df70448eebf1   community.wave.seqera.io/library/fastqc:0.12.1--af7a5314d5015c29   \"/usr/local/bin/_ent…\"   44 minutes ago       Exited (2) 44 minutes ago                     angry_mendel\n",
      "5dccce263695   community.wave.seqera.io/library/fastqc:0.12.1--af7a5314d5015c29   \"/usr/local/bin/_ent…\"   46 minutes ago       Exited (2) 46 minutes ago                     inspiring_murdock\n",
      "03cda4375977   community.wave.seqera.io/library/fastqc:0.12.1--af7a5314d5015c29   \"/usr/local/bin/_ent…\"   46 minutes ago       Exited (2) 46 minutes ago                     keen_newton\n",
      "6ec8bc354504   community.wave.seqera.io/library/fastqc:0.12.1--af7a5314d5015c29   \"/usr/local/bin/_ent…\"   49 minutes ago       Exited (0) 49 minutes ago                     nervous_vaughan\n",
      "3fc2f19cc4b3   community.wave.seqera.io/library/fastqc:0.12.1--af7a5314d5015c29   \"/usr/local/bin/_ent…\"   58 minutes ago       Exited (0) 58 minutes ago                     infallible_raman\n",
      "ca0a1e01841d   community.wave.seqera.io/library/fastqc:0.12.1--af7a5314d5015c29   \"/usr/local/bin/_ent…\"   About an hour ago    Exited (0) About an hour ago                  compassionate_lichterman\n",
      "4e7a74671a2c   quay.io/biocontainers/python:3.9--1                                \"/usr/local/env-exec…\"   28 hours ago         Exited (127) 28 hours ago                     nxf-xIQ8T3qr9Plk1haTMaFWBAz4\n",
      "a013b78c311b   nfcore/devcontainer:latest                                         \"/bin/sh -c 'echo Co…\"   2 days ago           Up 2 hours                                    vigilant_jennings\n",
      "/workspaces/computational-workflows-2025/notebooks/day_03_part2\n"
     ]
    }
   ],
   "source": [
    "# pull the container\n",
    "!docker run community.wave.seqera.io/library/fastqc:0.12.1--af7a5314d5015c29\n",
    "!docker ps -a\n",
    "!pwd"
   ]
  },
  {
   "cell_type": "code",
   "execution_count": 33,
   "metadata": {},
   "outputs": [
    {
     "name": "stdout",
     "output_type": "stream",
     "text": [
      "Specified output directory ':/fastqc_results' does not exist\n"
     ]
    }
   ],
   "source": [
    "# run the container and save the results to a new \"fastqc_results\" directory\n",
    "!docker container run -v $pwd:$pwd community.wave.seqera.io/library/fastqc:0.12.1--af7a5314d5015c29 fastqc $pwd/test_fastq.fq -o $pwd:$pwd/fastqc_results"
   ]
  },
  {
   "cell_type": "markdown",
   "metadata": {},
   "source": [
    "### Now that you know how to use a docker container, which approach was easier and which approach will be easier in the future?"
   ]
  },
  {
   "cell_type": "markdown",
   "metadata": {},
   "source": [
    "### What would you say, which approach is more reproducible?"
   ]
  },
  {
   "cell_type": "markdown",
   "metadata": {},
   "source": [
    "### Compare the file to last weeks fastqc results, are they identical?\n",
    "### Is the fastqc version identical?"
   ]
  },
  {
   "cell_type": "markdown",
   "metadata": {},
   "source": [
    "## Dockerfiles\n",
    "\n",
    "We now used Docker containers and images directly to boost our research. \n",
    "\n",
    "Let's create our own toy Dockerfile including the \"cowsay\" tool (https://en.wikipedia.org/wiki/Cowsay)\n",
    "\n",
    "Hints:\n",
    "1. Docker is Linux, so you need to know the apt-get command to install \"cowsay\""
   ]
  },
  {
   "cell_type": "code",
   "execution_count": null,
   "metadata": {},
   "outputs": [],
   "source": [
    "# open the file \"my_dockerfile\" in a text editor"
   ]
  },
  {
   "cell_type": "markdown",
   "metadata": {},
   "source": [
    "### Explain the RUN and ENV lines you added to the file"
   ]
  },
  {
   "cell_type": "markdown",
   "metadata": {},
   "source": []
  },
  {
   "cell_type": "code",
   "execution_count": 44,
   "metadata": {},
   "outputs": [
    {
     "name": "stdout",
     "output_type": "stream",
     "text": [
      "Error response from daemon: conflict: unable to remove repository reference \"cowsay_image\" (must force) - container 9a55eeb26d97 is using its referenced image e969e909289a\n",
      "\u001b[1A\u001b[1B\u001b[0G\u001b[?25l[+] Building 0.0s (0/1)                                          docker:default\n",
      "\u001b[?25h\u001b[1A\u001b[0G\u001b[?25l[+] Building 0.2s (2/3)                                          docker:default\n",
      "\u001b[34m => [internal] load build definition from Dockerfile                       0.0s\n",
      "\u001b[0m\u001b[34m => => transferring dockerfile: 850B                                       0.0s\n",
      "\u001b[0m\u001b[34m => [internal] load .dockerignore                                          0.0s\n",
      "\u001b[0m\u001b[34m => => transferring context: 2B                                            0.0s\n",
      "\u001b[0m => [internal] load metadata for docker.io/library/debian:bullseye-slim    0.2s\n",
      "\u001b[?25h\u001b[1A\u001b[1A\u001b[1A\u001b[1A\u001b[1A\u001b[1A\u001b[0G\u001b[?25l[+] Building 0.3s (2/3)                                          docker:default\n",
      "\u001b[34m => [internal] load build definition from Dockerfile                       0.0s\n",
      "\u001b[0m\u001b[34m => => transferring dockerfile: 850B                                       0.0s\n",
      "\u001b[0m\u001b[34m => [internal] load .dockerignore                                          0.0s\n",
      "\u001b[0m\u001b[34m => => transferring context: 2B                                            0.0s\n",
      "\u001b[0m => [internal] load metadata for docker.io/library/debian:bullseye-slim    0.3s\n",
      "\u001b[?25h\u001b[1A\u001b[1A\u001b[1A\u001b[1A\u001b[1A\u001b[1A\u001b[0G\u001b[?25l[+] Building 0.3s (3/3)                                          docker:default\n",
      "\u001b[34m => [internal] load build definition from Dockerfile                       0.0s\n",
      "\u001b[0m\u001b[34m => => transferring dockerfile: 850B                                       0.0s\n",
      "\u001b[0m\u001b[34m => [internal] load .dockerignore                                          0.0s\n",
      "\u001b[0m\u001b[34m => => transferring context: 2B                                            0.0s\n",
      "\u001b[0m\u001b[34m => [internal] load metadata for docker.io/library/debian:bullseye-slim    0.3s\n",
      "\u001b[0m\u001b[?25h\u001b[1A\u001b[1A\u001b[1A\u001b[1A\u001b[1A\u001b[1A\u001b[0G\u001b[?25l[+] Building 0.3s (8/8) FINISHED                                 docker:default\n",
      "\u001b[34m => [internal] load build definition from Dockerfile                       0.0s\n",
      "\u001b[0m\u001b[34m => => transferring dockerfile: 850B                                       0.0s\n",
      "\u001b[0m\u001b[34m => [internal] load .dockerignore                                          0.0s\n",
      "\u001b[0m\u001b[34m => => transferring context: 2B                                            0.0s\n",
      "\u001b[0m\u001b[34m => [internal] load metadata for docker.io/library/debian:bullseye-slim    0.3s\n",
      "\u001b[0m\u001b[34m => [1/4] FROM docker.io/library/debian:bullseye-slim@sha256:f807f4b16002  0.0s\n",
      "\u001b[0m\u001b[34m => CACHED [2/4] RUN apt-get update -y                                     0.0s\n",
      "\u001b[0m\u001b[34m => CACHED [3/4] RUN apt-get install curl -y                               0.0s\n",
      "\u001b[0m\u001b[34m => CACHED [4/4] RUN apt-get install cowsay -y                             0.0s\n",
      "\u001b[0m\u001b[34m => exporting to image                                                     0.0s\n",
      "\u001b[0m\u001b[34m => => exporting layers                                                    0.0s\n",
      "\u001b[0m\u001b[34m => => writing image sha256:1219891ed21d1df22a448e1611f4fd8863a445bb83606  0.0s\n",
      "\u001b[0m\u001b[34m => => naming to docker.io/library/cowsay_image                            0.0s\n",
      "\u001b[0m\u001b[?25h"
     ]
    }
   ],
   "source": [
    "# build the docker image\n",
    "# I renamed the docker file because it didn't get found otherwise\n",
    "!docker rmi cowsay_image\n",
    "!docker build -t cowsay_image ."
   ]
  },
  {
   "cell_type": "code",
   "execution_count": 45,
   "metadata": {},
   "outputs": [
    {
     "name": "stdout",
     "output_type": "stream",
     "text": [
      "REPOSITORY                                                 TAG                        IMAGE ID       CREATED          SIZE\n",
      "cowsay_image                                               latest                     1219891ed21d   30 minutes ago   152MB\n",
      "<none>                                                     <none>                     e969e909289a   30 minutes ago   152MB\n",
      "cowsay_container                                           latest                     743c799b185a   30 minutes ago   152MB\n",
      "nfcore/devcontainer                                        latest                     3302bb600cbe   4 weeks ago      2.77GB\n",
      "hello-world                                                latest                     1b44b5a3e06a   7 weeks ago      10.1kB\n",
      "bash                                                       latest                     736ead5a0e94   2 months ago     15.5MB\n",
      "community.wave.seqera.io/library/fastqc                    0.12.1--af7a5314d5015c29   57ed62363d5f   11 months ago    922MB\n",
      "quay.io/biocontainers/r-shinyngs                           1.8.8--r43hdfd78af_0       3ae022b36dce   17 months ago    1.34GB\n",
      "quay.io/biocontainers/atlas-gene-annotation-manipulation   1.1.1--hdfd78af_0          db9ec43ce403   18 months ago    1.25GB\n",
      "quay.io/nf-core/ubuntu                                     20.04                      88bd68917189   2 years ago      72.8MB\n",
      "quay.io/biocontainers/pandas                               1.5.2                      f82af9c4f9b8   2 years ago      342MB\n",
      "quay.io/biocontainers/gsea                                 4.3.2--hdfd78af_0          6feabbb8b995   2 years ago      546MB\n",
      "quay.io/biocontainers/r-base                               4.2.1                      8932c551c68b   2 years ago      825MB\n",
      "quay.io/biocontainers/bioconductor-deseq2                  1.34.0--r41hc247a5b_3      375cfc132ace   2 years ago      1.14GB\n",
      "quay.io/biocontainers/python                               3.9--1                     34c2b9e3810c   4 years ago      191MB\n",
      "quay.io/biocontainers/gawk                                 5.1.0                      1f25a9f620a3   5 years ago      38.6MB\n"
     ]
    }
   ],
   "source": [
    "# make sure that the image has been built\n",
    "!docker images\n",
    "# We can see that the cowsay container has been created"
   ]
  },
  {
   "cell_type": "code",
   "execution_count": 46,
   "metadata": {},
   "outputs": [
    {
     "name": "stdout",
     "output_type": "stream",
     "text": [
      "container_test_cowsay\n",
      " _______\n",
      "< hello >\n",
      " -------\n",
      "        \\   ^__^\n",
      "         \\  (oo)\\_______\n",
      "            (__)\\       )\\/\\\n",
      "                ||----w |\n",
      "                ||     ||\n"
     ]
    }
   ],
   "source": [
    "# run the docker file \n",
    "!docker rm container_test_cowsay\n",
    "!docker run --name container_test_cowsay 1219891ed21d"
   ]
  },
  {
   "cell_type": "markdown",
   "metadata": {},
   "source": [
    "## Let's do some bioinformatics with the docker file and create a new docker file that holds the salmon tool used in rnaseq\n",
    "\n",
    "To do so, use \"curl\" in your new dockerfile to get salmon from https://github.com/COMBINE-lab/salmon/releases/download/v1.5.2/salmon-1.5.2_linux_x86_64.tar.gz"
   ]
  },
  {
   "cell_type": "code",
   "execution_count": null,
   "metadata": {
    "vscode": {
     "languageId": "shellscript"
    }
   },
   "outputs": [],
   "source": [
    "# use the file \"salmon_docker\" in this directory to build a new docker image"
   ]
  },
  {
   "cell_type": "code",
   "execution_count": null,
   "metadata": {
    "vscode": {
     "languageId": "shellscript"
    }
   },
   "outputs": [],
   "source": [
    "# build the image\n"
   ]
  },
  {
   "cell_type": "code",
   "execution_count": 1,
   "metadata": {
    "vscode": {
     "languageId": "shellscript"
    }
   },
   "outputs": [],
   "source": [
    "# run the docker image to give out the version of salmon\n"
   ]
  },
  {
   "cell_type": "markdown",
   "metadata": {},
   "source": [
    "## Do you think bioinformaticians have to create a docker image every time they want to run a tool?\n",
    "\n",
    "Find the salmon docker image online and run it on your computer.\n",
    "\n",
    "What is https://biocontainers.pro/ ?\n",
    "\n",
    "Biocontainers is a project to provide guidelines and infrastructure to distribute bioinformatics software and containers for ease of use."
   ]
  },
  {
   "cell_type": "markdown",
   "metadata": {},
   "source": [
    "## Are there other ways to create Docker (or Apptainer) images?\n",
    "\n",
    "What is https://seqera.io/containers/ ?\n",
    "\n",
    "Seqera is a website that allows one to build container images easily online, by automatically generating a container image with the user's chosen software."
   ]
  }
 ],
 "metadata": {
  "kernelspec": {
   "display_name": "base",
   "language": "python",
   "name": "python3"
  },
  "language_info": {
   "codemirror_mode": {
    "name": "ipython",
    "version": 3
   },
   "file_extension": ".py",
   "mimetype": "text/x-python",
   "name": "python",
   "nbconvert_exporter": "python",
   "pygments_lexer": "ipython3",
   "version": "3.13.5"
  }
 },
 "nbformat": 4,
 "nbformat_minor": 2
}
